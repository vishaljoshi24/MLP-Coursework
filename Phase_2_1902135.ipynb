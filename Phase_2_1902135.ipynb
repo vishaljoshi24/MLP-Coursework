{
 "cells": [
  {
   "cell_type": "code",
   "execution_count": 1,
   "outputs": [],
   "source": [
    "import os\n",
    "import matplotlib.pyplot as plt\n",
    "import numpy as np\n",
    "import pandas as pd"
   ],
   "metadata": {
    "collapsed": false,
    "ExecuteTime": {
     "end_time": "2024-01-08T21:12:26.380434100Z",
     "start_time": "2024-01-08T21:12:26.351428600Z"
    }
   },
   "id": "97006d2f26f65c4e"
  },
  {
   "cell_type": "code",
   "execution_count": 2,
   "outputs": [],
   "source": [
    "test_file_path = 'C:/Users/we19383/DataspellProjects/MLP_coursework/morebikes2022/test.csv'\n",
    "test_data_path = os.path.join(test_file_path)\n",
    "test_data = pd.read_csv(test_data_path)"
   ],
   "metadata": {
    "collapsed": false,
    "ExecuteTime": {
     "end_time": "2024-01-08T21:12:26.411802500Z",
     "start_time": "2024-01-08T21:12:26.380434100Z"
    }
   },
   "id": "3a8bad6aafd497be"
  },
  {
   "cell_type": "code",
   "execution_count": 3,
   "outputs": [
    {
     "data": {
      "text/plain": "0       201\n1       201\n2       201\n3       201\n4       201\n       ... \n2245    275\n2246    275\n2247    275\n2248    275\n2249    275\nName: station, Length: 2250, dtype: int64"
     },
     "execution_count": 3,
     "metadata": {},
     "output_type": "execute_result"
    }
   ],
   "source": [
    "test_data['station']"
   ],
   "metadata": {
    "collapsed": false,
    "ExecuteTime": {
     "end_time": "2024-01-08T21:12:26.427312200Z",
     "start_time": "2024-01-08T21:12:26.411802500Z"
    }
   },
   "id": "f9b2223540df0c00"
  },
  {
   "cell_type": "code",
   "execution_count": 4,
   "outputs": [],
   "source": [
    "train_file_path = 'C:/Users/we19383/DataspellProjects/MLP_coursework/morebikes2022/Models/'\n",
    "train_data = os.path.join(train_file_path)\n",
    "model_type = ['full', 'full_temp']\n"
   ],
   "metadata": {
    "collapsed": false,
    "ExecuteTime": {
     "end_time": "2024-01-08T21:12:26.458881500Z",
     "start_time": "2024-01-08T21:12:26.427312200Z"
    }
   },
   "id": "89a5ef5a8ef20ae7"
  },
  {
   "cell_type": "code",
   "execution_count": 5,
   "outputs": [],
   "source": [
    "result_list = []\n",
    "\n",
    "# Iterate through each station\n",
    "for i in range(1,201):\n",
    "    # Create an empty DataFrame to store the weights for the current station\n",
    "    station_dict = {'station': i}\n",
    "\n",
    "    # Iterate through each model for the current station\n",
    "    for j in range(len(model_type)):  # Assuming models are named model1.csv, model2.csv, ..., model6.csv\n",
    "        model_filename = os.path.join(train_file_path, f\"model_station_{i}_rlm_{model_type[j]}.csv\")\n",
    "        #print(model_filename)\n",
    "        # Check if the file exists\n",
    "        if os.path.isfile(model_filename):\n",
    "            # Load the model weights into a DataFrame\n",
    "            model_weights = pd.read_csv(model_filename)\n",
    "            \n",
    "            bikes_3h_ago = model_weights['weight'][1]\n",
    "            full_profile_bikes = model_weights['weight'][2]\n",
    "\n",
    "            avg_bikes_3h_ago = np.mean(bikes_3h_ago)\n",
    "            avg_full_profile_bikes = np.mean(full_profile_bikes)\n",
    "\n",
    "            station_dict[f\"bikes_3h_ago\"] = avg_bikes_3h_ago\n",
    "            station_dict[f\"full_profile_bikes\"] = avg_full_profile_bikes\n",
    "           \n",
    "    result_list.append(station_dict)\n",
    "\n",
    "weight_df = pd.DataFrame(result_list)"
   ],
   "metadata": {
    "collapsed": false,
    "ExecuteTime": {
     "end_time": "2024-01-08T21:12:28.669167700Z",
     "start_time": "2024-01-08T21:12:26.450282100Z"
    }
   },
   "id": "5d2295c96de00244"
  },
  {
   "cell_type": "code",
   "execution_count": 6,
   "outputs": [
    {
     "data": {
      "text/plain": "     station  bikes_3h_ago  full_profile_bikes\n0          1      0.518931        3.438250e-01\n1          2      0.626153        2.959324e-01\n2          3      0.595897        2.415987e-01\n3          4      0.587546        3.286884e-01\n4          5      0.331868        6.738652e-01\n..       ...           ...                 ...\n195      196      0.999998        9.656896e-07\n196      197      0.894453        2.638717e-02\n197      198      0.903765        6.661564e-02\n198      199      0.902956        3.322967e-04\n199      200      0.937638        1.853516e-02\n\n[200 rows x 3 columns]",
      "text/html": "<div>\n<style scoped>\n    .dataframe tbody tr th:only-of-type {\n        vertical-align: middle;\n    }\n\n    .dataframe tbody tr th {\n        vertical-align: top;\n    }\n\n    .dataframe thead th {\n        text-align: right;\n    }\n</style>\n<table border=\"1\" class=\"dataframe\">\n  <thead>\n    <tr style=\"text-align: right;\">\n      <th></th>\n      <th>station</th>\n      <th>bikes_3h_ago</th>\n      <th>full_profile_bikes</th>\n    </tr>\n  </thead>\n  <tbody>\n    <tr>\n      <th>0</th>\n      <td>1</td>\n      <td>0.518931</td>\n      <td>3.438250e-01</td>\n    </tr>\n    <tr>\n      <th>1</th>\n      <td>2</td>\n      <td>0.626153</td>\n      <td>2.959324e-01</td>\n    </tr>\n    <tr>\n      <th>2</th>\n      <td>3</td>\n      <td>0.595897</td>\n      <td>2.415987e-01</td>\n    </tr>\n    <tr>\n      <th>3</th>\n      <td>4</td>\n      <td>0.587546</td>\n      <td>3.286884e-01</td>\n    </tr>\n    <tr>\n      <th>4</th>\n      <td>5</td>\n      <td>0.331868</td>\n      <td>6.738652e-01</td>\n    </tr>\n    <tr>\n      <th>...</th>\n      <td>...</td>\n      <td>...</td>\n      <td>...</td>\n    </tr>\n    <tr>\n      <th>195</th>\n      <td>196</td>\n      <td>0.999998</td>\n      <td>9.656896e-07</td>\n    </tr>\n    <tr>\n      <th>196</th>\n      <td>197</td>\n      <td>0.894453</td>\n      <td>2.638717e-02</td>\n    </tr>\n    <tr>\n      <th>197</th>\n      <td>198</td>\n      <td>0.903765</td>\n      <td>6.661564e-02</td>\n    </tr>\n    <tr>\n      <th>198</th>\n      <td>199</td>\n      <td>0.902956</td>\n      <td>3.322967e-04</td>\n    </tr>\n    <tr>\n      <th>199</th>\n      <td>200</td>\n      <td>0.937638</td>\n      <td>1.853516e-02</td>\n    </tr>\n  </tbody>\n</table>\n<p>200 rows × 3 columns</p>\n</div>"
     },
     "execution_count": 6,
     "metadata": {},
     "output_type": "execute_result"
    }
   ],
   "source": [
    "weight_df"
   ],
   "metadata": {
    "collapsed": false,
    "ExecuteTime": {
     "end_time": "2024-01-08T21:12:28.716442500Z",
     "start_time": "2024-01-08T21:12:28.669167700Z"
    }
   },
   "id": "931e078dc45914f7"
  },
  {
   "cell_type": "code",
   "execution_count": 7,
   "outputs": [],
   "source": [
    "from sklearn.linear_model import LinearRegression\n",
    "from sklearn.linear_model import BayesianRidge\n",
    "from sklearn.linear_model import Ridge\n",
    "from sklearn.ensemble import HistGradientBoostingRegressor\n",
    "from sklearn.metrics import mean_squared_error\n",
    "\n",
    "lin_reg = LinearRegression()\n",
    "bayes_rid = BayesianRidge()\n",
    "rid = Ridge()\n",
    "hbg = HistGradientBoostingRegressor()"
   ],
   "metadata": {
    "collapsed": false,
    "ExecuteTime": {
     "end_time": "2024-01-08T21:12:29.912062100Z",
     "start_time": "2024-01-08T21:12:28.716442500Z"
    }
   },
   "id": "161fcd154035d0dd"
  },
  {
   "cell_type": "code",
   "execution_count": 8,
   "outputs": [
    {
     "name": "stdout",
     "output_type": "stream",
     "text": [
      "\n",
      "Average MAE across all stations between 201-275 for LinearRegression(): 4.970+/- 0.000\n",
      "\n",
      "\n",
      "Average RMSE across all stations between 201-275 for LinearRegression(): 2.295+/- 0.000\n",
      "\n",
      "\n",
      "Average MAE across all stations between 201-275 for Ridge(): 3.643+/- 0.000\n",
      "\n",
      "\n",
      "Average RMSE across all stations between 201-275 for Ridge(): 1.967+/- 0.000\n",
      "\n",
      "Average MAE across all stations between 201-275 for BayesianRidge(): 4.955+/- 0.000\n",
      "\n",
      "\n",
      "Average RMSE across all stations between 201-275 for BayesianRidge(): 2.292+/- 0.000\n",
      "\n",
      "Average MAE across all stations between 201-275 for HistGradientBoostingRegressor(): 0.297+/- 0.000\n",
      "\n",
      "\n",
      "Average RMSE across all stations between 201-275 for HistGradientBoostingRegressor(): 0.581+/- 0.000\n"
     ]
    }
   ],
   "source": [
    "def station_models_v2(model, test_data):\n",
    "    \"\"\"This function will train a selected model on stations 1-200 and calculate the MAE for each station between 201-275.\"\"\"\n",
    "\n",
    "    #station_models = {}  # This dictionary will store individual models for each station\n",
    "    station_maes = []\n",
    "    station_rmses = []\n",
    "    # Extract training data for stations 1-200\n",
    "    train_df = weight_df[weight_df['station'] <= 200]\n",
    "    X_train = train_df[['station', 'full_profile_bikes']]\n",
    "    y_train = train_df['bikes_3h_ago']/train_df['bikes_3h_ago'].max()\n",
    "\n",
    "    # Train the model on stations 1-200\n",
    "    model.fit(X_train, y_train)\n",
    "\n",
    "    for station in range(201, 276):\n",
    "        # Extract test data for the current station\n",
    "        test_data_station = test_data[test_data['station'] == station]\n",
    "\n",
    "\n",
    "        X_test = test_data_station[['station', 'full_profile_bikes']]\n",
    "        y_test = test_data_station['bikes_3h_ago'] / test_data_station['bikes_3h_ago'].max()\n",
    "\n",
    "        # Make predictions on the test data for the current station\n",
    "        predictions = model.predict(X_test)\n",
    "\n",
    "        # Evaluate the model\n",
    "        mae = mean_absolute_error(y_test, predictions)\n",
    "        rmse = np.sqrt(mean_squared_error(y_test, predictions, squared=False))\n",
    "        station_maes.append(mae)\n",
    "        station_rmses.append(rmse)\n",
    "        #print(f\"This is the mean absolute error for station {station}: {mae:.3f}\")\n",
    "\n",
    "    # Calculate and print the average MAE\n",
    "    average_mae = np.mean(station_maes)\n",
    "    average_rmse = np.mean(station_rmses)\n",
    "    print(f\"\\nAverage MAE across all stations between 201-275 for {model}: {average_mae:.3f}+/- {average_mae.std():.3f}\\n\")\n",
    "    print(f\"\\nAverage RMSE across all stations between 201-275 for {model}: {average_rmse:.3f}+/- {average_rmse.std():.3f}\\n\")\n",
    "\n",
    "from sklearn.metrics import mean_absolute_error\n",
    "\n",
    "station_models_v2(lin_reg, test_data)\n",
    "station_models_v2(rid, test_data)\n",
    "station_models_v2(bayes_rid, test_data)\n",
    "station_models_v2(hbg, test_data)\n"
   ],
   "metadata": {
    "collapsed": false,
    "ExecuteTime": {
     "end_time": "2024-01-08T21:12:31.044774600Z",
     "start_time": "2024-01-08T21:12:29.912062100Z"
    }
   },
   "id": "4a14e7ea734e8c9d"
  },
  {
   "cell_type": "code",
   "execution_count": 9,
   "outputs": [
    {
     "data": {
      "text/plain": "                          feature    weight\n0                     (Intercept)  0.273869\n1                    bikes_3h_ago  0.776697\n2              full_profile_bikes  0.157565\n3      full_profile_3h_diff_bikes  0.562749\n4                     (Intercept)  0.124532\n...                           ...       ...\n6195                  (Intercept)  0.062848\n6196                 bikes_3h_ago  0.487413\n6197          short_profile_bikes  0.431775\n6198  short_profile_3h_diff_bikes  0.423223\n6199                temperature.C  0.032439\n\n[6200 rows x 2 columns]",
      "text/html": "<div>\n<style scoped>\n    .dataframe tbody tr th:only-of-type {\n        vertical-align: middle;\n    }\n\n    .dataframe tbody tr th {\n        vertical-align: top;\n    }\n\n    .dataframe thead th {\n        text-align: right;\n    }\n</style>\n<table border=\"1\" class=\"dataframe\">\n  <thead>\n    <tr style=\"text-align: right;\">\n      <th></th>\n      <th>feature</th>\n      <th>weight</th>\n    </tr>\n  </thead>\n  <tbody>\n    <tr>\n      <th>0</th>\n      <td>(Intercept)</td>\n      <td>0.273869</td>\n    </tr>\n    <tr>\n      <th>1</th>\n      <td>bikes_3h_ago</td>\n      <td>0.776697</td>\n    </tr>\n    <tr>\n      <th>2</th>\n      <td>full_profile_bikes</td>\n      <td>0.157565</td>\n    </tr>\n    <tr>\n      <th>3</th>\n      <td>full_profile_3h_diff_bikes</td>\n      <td>0.562749</td>\n    </tr>\n    <tr>\n      <th>4</th>\n      <td>(Intercept)</td>\n      <td>0.124532</td>\n    </tr>\n    <tr>\n      <th>...</th>\n      <td>...</td>\n      <td>...</td>\n    </tr>\n    <tr>\n      <th>6195</th>\n      <td>(Intercept)</td>\n      <td>0.062848</td>\n    </tr>\n    <tr>\n      <th>6196</th>\n      <td>bikes_3h_ago</td>\n      <td>0.487413</td>\n    </tr>\n    <tr>\n      <th>6197</th>\n      <td>short_profile_bikes</td>\n      <td>0.431775</td>\n    </tr>\n    <tr>\n      <th>6198</th>\n      <td>short_profile_3h_diff_bikes</td>\n      <td>0.423223</td>\n    </tr>\n    <tr>\n      <th>6199</th>\n      <td>temperature.C</td>\n      <td>0.032439</td>\n    </tr>\n  </tbody>\n</table>\n<p>6200 rows × 2 columns</p>\n</div>"
     },
     "execution_count": 9,
     "metadata": {},
     "output_type": "execute_result"
    }
   ],
   "source": [
    "filepath = 'C:/Users/we19383/DataspellProjects/MLP_coursework/morebikes2022/Models/'\n",
    "\n",
    "phase2_files = sorted([i for i in os.listdir(filepath) if i.endswith('.csv')])\n",
    "models = []\n",
    "\n",
    "for file in phase2_files:\n",
    "    csv_filepath = os.path.join(filepath, file)\n",
    "    model = pd.read_csv(csv_filepath)\n",
    "    models.append(model)\n",
    "\n",
    "all_models = pd.concat(models, ignore_index=True)\n",
    "all_models"
   ],
   "metadata": {
    "collapsed": false,
    "ExecuteTime": {
     "end_time": "2024-01-08T21:12:35.865969200Z",
     "start_time": "2024-01-08T21:12:31.044774600Z"
    }
   },
   "id": "16a028949b4b502"
  },
  {
   "cell_type": "code",
   "execution_count": 10,
   "outputs": [
    {
     "name": "stdout",
     "output_type": "stream",
     "text": [
      "feature  (Intercept)  bikes_3h_ago  full_profile_3h_diff_bikes  \\\n",
      "0           0.273869      0.759984                    0.458880   \n",
      "1           0.349830      0.776697                    0.458880   \n",
      "2           0.349830      0.759984                    0.458880   \n",
      "3           0.349830      0.759984                    0.562749   \n",
      "4           0.124532      0.759984                    0.458880   \n",
      "...              ...           ...                         ...   \n",
      "6195        0.062848      0.759984                    0.458880   \n",
      "6196        0.349830      0.487413                    0.458880   \n",
      "6197        0.349830      0.759984                    0.458880   \n",
      "6198        0.349830      0.759984                    0.458880   \n",
      "6199        0.349830      0.759984                    0.458880   \n",
      "\n",
      "feature  full_profile_bikes  short_profile_3h_diff_bikes  short_profile_bikes  \\\n",
      "0                  0.174402                     0.325995             0.083140   \n",
      "1                  0.174402                     0.325995             0.083140   \n",
      "2                  0.157565                     0.325995             0.083140   \n",
      "3                  0.174402                     0.325995             0.083140   \n",
      "4                  0.174402                     0.325995             0.083140   \n",
      "...                     ...                          ...                  ...   \n",
      "6195               0.174402                     0.325995             0.083140   \n",
      "6196               0.174402                     0.325995             0.083140   \n",
      "6197               0.174402                     0.325995             0.431775   \n",
      "6198               0.174402                     0.423223             0.083140   \n",
      "6199               0.174402                     0.325995             0.083140   \n",
      "\n",
      "feature  temperature.C  \n",
      "0            -0.004592  \n",
      "1            -0.004592  \n",
      "2            -0.004592  \n",
      "3            -0.004592  \n",
      "4            -0.004592  \n",
      "...                ...  \n",
      "6195         -0.004592  \n",
      "6196         -0.004592  \n",
      "6197         -0.004592  \n",
      "6198         -0.004592  \n",
      "6199          0.032439  \n",
      "\n",
      "[6200 rows x 7 columns]\n"
     ]
    }
   ],
   "source": [
    "pivot_df = all_models.pivot(columns='feature', values='weight')\n",
    "pivot_df = pivot_df.fillna(pivot_df.median())\n",
    "print(pivot_df)"
   ],
   "metadata": {
    "collapsed": false,
    "ExecuteTime": {
     "end_time": "2024-01-08T21:12:35.914136600Z",
     "start_time": "2024-01-08T21:12:35.865969200Z"
    }
   },
   "id": "c531cd5d883c0fd9"
  },
  {
   "cell_type": "code",
   "execution_count": 11,
   "outputs": [
    {
     "name": "stdout",
     "output_type": "stream",
     "text": [
      "Mean Absolute Error for LinearRegression():     0.031 +/- 0.006\n",
      "Root Mean Squared Error for LinearRegression(): 0.072 +/- 0.013\n",
      "Mean Absolute Error for BayesianRidge():     0.031 +/- 0.006\n",
      "Root Mean Squared Error for BayesianRidge(): 0.072 +/- 0.013\n",
      "Mean Absolute Error for HistGradientBoostingRegressor():     0.030 +/- 0.006\n",
      "Root Mean Squared Error for HistGradientBoostingRegressor(): 0.072 +/- 0.013\n"
     ]
    }
   ],
   "source": [
    "from sklearn.model_selection import TimeSeriesSplit\n",
    "\n",
    "ts_cv = TimeSeriesSplit(n_splits=5,\n",
    "                        gap=48,\n",
    "                        max_train_size=10000,\n",
    "                        test_size=500\n",
    "                        )\n",
    "\n",
    "from sklearn.linear_model import LinearRegression\n",
    "from sklearn.model_selection import cross_validate\n",
    "\n",
    "\n",
    "def all_stations_v2(model, cv):\n",
    "    \"\"\"This function evaluates the mean absolute error and root-mean-square error for the bike rental data set, based on the cross validation split and model given\"\"\"\n",
    "    stations = pivot_df['(Intercept)']\n",
    "    for station in stations:\n",
    "        #data for the current station\n",
    "        station_data = pivot_df[pivot_df['(Intercept)'] == station]\n",
    "\n",
    "        #Extract feature and target variable\n",
    "        X = station_data[['full_profile_bikes', 'short_profile_bikes']]\n",
    "        y = station_data['bikes_3h_ago'] / station_data['bikes_3h_ago'].max()\n",
    "\n",
    "    cv_results = cross_validate(\n",
    "        model,\n",
    "        X,\n",
    "        y,\n",
    "        cv=cv,\n",
    "        scoring=[\"neg_mean_absolute_error\", \"neg_root_mean_squared_error\"],\n",
    "    )\n",
    "    mae = -cv_results[\"test_neg_mean_absolute_error\"]\n",
    "    rmse = -cv_results[\"test_neg_root_mean_squared_error\"]\n",
    "    print(\n",
    "        f\"Mean Absolute Error for {model}:     {mae.mean():.3f} +/- {mae.std():.3f}\\n\"\n",
    "        f\"Root Mean Squared Error for {model}: {rmse.mean():.3f} +/- {rmse.std():.3f}\"\n",
    "    )\n",
    "    \n",
    "\n",
    "all_stations_v2(lin_reg, cv=ts_cv)\n",
    "all_stations_v2(bayes_rid, ts_cv)\n",
    "all_stations_v2(hbg, ts_cv)"
   ],
   "metadata": {
    "collapsed": false,
    "ExecuteTime": {
     "end_time": "2024-01-08T21:12:50.403417900Z",
     "start_time": "2024-01-08T21:12:35.889652400Z"
    }
   },
   "id": "2244b4c5f9832c4f"
  },
  {
   "cell_type": "code",
   "execution_count": 11,
   "outputs": [],
   "source": [],
   "metadata": {
    "collapsed": false,
    "ExecuteTime": {
     "end_time": "2024-01-08T21:12:50.419045100Z",
     "start_time": "2024-01-08T21:12:50.403417900Z"
    }
   },
   "id": "8b3a9a02228cc561"
  }
 ],
 "metadata": {
  "kernelspec": {
   "display_name": "Python 3",
   "language": "python",
   "name": "python3"
  },
  "language_info": {
   "codemirror_mode": {
    "name": "ipython",
    "version": 2
   },
   "file_extension": ".py",
   "mimetype": "text/x-python",
   "name": "python",
   "nbconvert_exporter": "python",
   "pygments_lexer": "ipython2",
   "version": "2.7.6"
  }
 },
 "nbformat": 4,
 "nbformat_minor": 5
}
